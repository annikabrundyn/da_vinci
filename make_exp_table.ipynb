{
  "nbformat": 4,
  "nbformat_minor": 0,
  "metadata": {
    "colab": {
      "name": "make_exp_table.ipynb",
      "provenance": [],
      "collapsed_sections": [],
      "authorship_tag": "ABX9TyPn8qe3BvCQu/O1guVIkSTt",
      "include_colab_link": true
    },
    "kernelspec": {
      "name": "python3",
      "display_name": "Python 3"
    },
    "language_info": {
      "name": "python"
    }
  },
  "cells": [
    {
      "cell_type": "markdown",
      "metadata": {
        "id": "view-in-github",
        "colab_type": "text"
      },
      "source": [
        "<a href=\"https://colab.research.google.com/github/annikabrundyn/da_vinci/blob/main/make_exp_table.ipynb\" target=\"_parent\"><img src=\"https://colab.research.google.com/assets/colab-badge.svg\" alt=\"Open In Colab\"/></a>"
      ]
    },
    {
      "cell_type": "code",
      "metadata": {
        "id": "WMTsVSTU6JsY"
      },
      "source": [
        "import itertools\n",
        "import openpyxl\n",
        "import random\n",
        "import time"
      ],
      "execution_count": 20,
      "outputs": []
    },
    {
      "cell_type": "code",
      "metadata": {
        "id": "4akkKU0D8lQX"
      },
      "source": [
        "### save to spreadsheet\n",
        "\n",
        "from google.colab import auth\n",
        "auth.authenticate_user()\n",
        "\n",
        "import gspread\n",
        "import pandas as pd\n",
        "from google.colab import auth\n",
        "from oauth2client.client import GoogleCredentials\n",
        "from gspread_dataframe import set_with_dataframe, get_as_dataframe\n",
        "\n",
        "gc = gspread.authorize(GoogleCredentials.get_application_default())"
      ],
      "execution_count": 21,
      "outputs": []
    },
    {
      "cell_type": "code",
      "metadata": {
        "id": "knO7AeoaC9D0"
      },
      "source": [
        "sh = gc.open('qual_exp_table')"
      ],
      "execution_count": 22,
      "outputs": []
    },
    {
      "cell_type": "code",
      "metadata": {
        "id": "fDGkWtMJDBbp"
      },
      "source": [
        "### read from sheets\n",
        "\n",
        "img_comps = sh.worksheet('img_comps')\n",
        "items = sh.worksheet('items')"
      ],
      "execution_count": 23,
      "outputs": []
    },
    {
      "cell_type": "code",
      "metadata": {
        "id": "dTrt6IVk1G-5"
      },
      "source": [
        "### get the models, images and videos we'll compare\n",
        "\n",
        "model_names = sh.values_get(\"'items'!A5:A50\")['values']\n",
        "img_names = sh.values_get(\"'items'!B5:B50\")['values']\n",
        "video_names = sh.values_get(\"'items'!C5:C50\")['values']\n",
        "\n",
        "# flatten lists\n",
        "model_names = sum(model_names, [])\n",
        "img_names = sum(img_names, [])\n",
        "video_names = sum(video_names, [])"
      ],
      "execution_count": 24,
      "outputs": []
    },
    {
      "cell_type": "code",
      "metadata": {
        "colab": {
          "base_uri": "https://localhost:8080/"
        },
        "id": "vKn1KwYq2a8L",
        "outputId": "613bb321-0345-4548-88a0-5604a9b7538b"
      },
      "source": [
        "print(model_names)\n",
        "print(img_names)"
      ],
      "execution_count": 25,
      "outputs": [
        {
          "output_type": "stream",
          "text": [
            "['s1', 's3', 's8', 'u3', 'u13', 'u18', 'u19', 'u22', 'u26']\n",
            "['0', '1', '12', '13']\n"
          ],
          "name": "stdout"
        }
      ]
    },
    {
      "cell_type": "code",
      "metadata": {
        "id": "f7z74u5F6Mjj"
      },
      "source": [
        "### generate image comparisons between models\n",
        "\n",
        "model_combs = list(itertools.combinations(model_names, 2))\n",
        "\n",
        "# shuffle order of a/b\n",
        "random.seed(3478)\n",
        "model_combs = [random.sample(list(comb), len(comb)) for comb in model_combs]"
      ],
      "execution_count": 58,
      "outputs": []
    },
    {
      "cell_type": "code",
      "metadata": {
        "id": "IyTMfioHv_Bb"
      },
      "source": [
        "### model + frame combinations\n",
        "\n",
        "model_frame_combs = list(itertools.product(model_combs, img_names))\n",
        "model_frame_combs = [(a, b, frame) for ((a, b), frame) in model_frame_combs]"
      ],
      "execution_count": 59,
      "outputs": []
    },
    {
      "cell_type": "code",
      "metadata": {
        "colab": {
          "base_uri": "https://localhost:8080/"
        },
        "id": "urjg3QIkwqdr",
        "outputId": "ce1cd59c-06a5-480b-8e7a-92059a92ea60"
      },
      "source": [
        "model_frame_combs[0:10]"
      ],
      "execution_count": 60,
      "outputs": [
        {
          "output_type": "execute_result",
          "data": {
            "text/plain": [
              "[('s3', 's1', '0'),\n",
              " ('s3', 's1', '1'),\n",
              " ('s3', 's1', '12'),\n",
              " ('s3', 's1', '13'),\n",
              " ('s1', 's8', '0'),\n",
              " ('s1', 's8', '1'),\n",
              " ('s1', 's8', '12'),\n",
              " ('s1', 's8', '13'),\n",
              " ('s1', 'u3', '0'),\n",
              " ('s1', 'u3', '1')]"
            ]
          },
          "metadata": {
            "tags": []
          },
          "execution_count": 60
        }
      ]
    },
    {
      "cell_type": "code",
      "metadata": {
        "id": "pA1rYU2htlv2"
      },
      "source": [
        "### add in sanity checks\n",
        "\n",
        "sanity_checks = [('u22', 'u3', '0'),\n",
        "                 ('u3', 'u22', '0'),\n",
        "                 ('u22', 'u3', '12'),\n",
        "                 ('u3', 'u22', '12')]"
      ],
      "execution_count": 61,
      "outputs": []
    },
    {
      "cell_type": "code",
      "metadata": {
        "id": "rvbpiwF8xIjf"
      },
      "source": [
        "model_frame_combs += sanity_checks"
      ],
      "execution_count": 63,
      "outputs": []
    },
    {
      "cell_type": "code",
      "metadata": {
        "colab": {
          "base_uri": "https://localhost:8080/"
        },
        "id": "_sQbyafBxM_4",
        "outputId": "e2363291-04b6-44b8-dbe2-ad1ff9922031"
      },
      "source": [
        "model_frame_combs[-10:]"
      ],
      "execution_count": 64,
      "outputs": [
        {
          "output_type": "execute_result",
          "data": {
            "text/plain": [
              "[('u26', 'u19', '12'),\n",
              " ('u26', 'u19', '13'),\n",
              " ('u26', 'u22', '0'),\n",
              " ('u26', 'u22', '1'),\n",
              " ('u26', 'u22', '12'),\n",
              " ('u26', 'u22', '13'),\n",
              " ('u22', 'u3', '0'),\n",
              " ('u3', 'u22', '0'),\n",
              " ('u22', 'u3', '12'),\n",
              " ('u3', 'u22', '12')]"
            ]
          },
          "metadata": {
            "tags": []
          },
          "execution_count": 64
        }
      ]
    },
    {
      "cell_type": "code",
      "metadata": {
        "id": "UXZytimrqfIs"
      },
      "source": [
        "### add in comparisons with target:\n",
        "target_frame_num = 0\n",
        "target_comps = []\n",
        "\n",
        "for model in model_names:\n",
        "  # randomly determine order\n",
        "  if random.random() < 0.5:\n",
        "    a = model\n",
        "    b = \"target\"\n",
        "  else:\n",
        "    a = \"target\"\n",
        "    b = model\n",
        "  \n",
        "  target_comps.append((a, b, target_frame_num))"
      ],
      "execution_count": 65,
      "outputs": []
    },
    {
      "cell_type": "code",
      "metadata": {
        "colab": {
          "base_uri": "https://localhost:8080/"
        },
        "id": "vmvgbreErjwj",
        "outputId": "c796bda1-cb0e-4ca0-a73d-873f8301c128"
      },
      "source": [
        "target_comps"
      ],
      "execution_count": 66,
      "outputs": [
        {
          "output_type": "execute_result",
          "data": {
            "text/plain": [
              "[('target', 's1', 0),\n",
              " ('s3', 'target', 0),\n",
              " ('s8', 'target', 0),\n",
              " ('target', 'u3', 0),\n",
              " ('target', 'u13', 0),\n",
              " ('target', 'u18', 0),\n",
              " ('target', 'u19', 0),\n",
              " ('u22', 'target', 0),\n",
              " ('target', 'u26', 0)]"
            ]
          },
          "metadata": {
            "tags": []
          },
          "execution_count": 66
        }
      ]
    },
    {
      "cell_type": "code",
      "metadata": {
        "id": "q2RJf76zrmtR"
      },
      "source": [
        "model_frame_combs += target_comps"
      ],
      "execution_count": 67,
      "outputs": []
    },
    {
      "cell_type": "code",
      "metadata": {
        "colab": {
          "base_uri": "https://localhost:8080/"
        },
        "id": "wWm9kaOtxVRR",
        "outputId": "cb51b6d3-5d9f-4f0f-a33d-a04942a83d5d"
      },
      "source": [
        "model_frame_combs[-10:]"
      ],
      "execution_count": 68,
      "outputs": [
        {
          "output_type": "execute_result",
          "data": {
            "text/plain": [
              "[('u3', 'u22', '12'),\n",
              " ('target', 's1', 0),\n",
              " ('s3', 'target', 0),\n",
              " ('s8', 'target', 0),\n",
              " ('target', 'u3', 0),\n",
              " ('target', 'u13', 0),\n",
              " ('target', 'u18', 0),\n",
              " ('target', 'u19', 0),\n",
              " ('u22', 'target', 0),\n",
              " ('target', 'u26', 0)]"
            ]
          },
          "metadata": {
            "tags": []
          },
          "execution_count": 68
        }
      ]
    },
    {
      "cell_type": "code",
      "metadata": {
        "id": "WNjsJNXr6Mnu"
      },
      "source": [
        "random.seed(14)\n",
        "random.shuffle(model_frame_combs)"
      ],
      "execution_count": 69,
      "outputs": []
    },
    {
      "cell_type": "code",
      "metadata": {
        "colab": {
          "base_uri": "https://localhost:8080/"
        },
        "id": "tNiXXBPnu78q",
        "outputId": "a8e85e5b-516b-4dd8-d5ae-da80483b7b42"
      },
      "source": [
        "model_frame_combs"
      ],
      "execution_count": 70,
      "outputs": [
        {
          "output_type": "execute_result",
          "data": {
            "text/plain": [
              "[('u26', 'u13', '12'),\n",
              " ('u26', 'u22', '1'),\n",
              " ('u18', 'u26', '0'),\n",
              " ('u22', 'u3', '12'),\n",
              " ('s3', 'u13', '0'),\n",
              " ('s1', 's8', '1'),\n",
              " ('s1', 'u3', '12'),\n",
              " ('u3', 'u13', '0'),\n",
              " ('u26', 'u22', '0'),\n",
              " ('u18', 's3', '0'),\n",
              " ('u3', 's3', '1'),\n",
              " ('u26', 'u3', '12'),\n",
              " ('s8', 'u22', '0'),\n",
              " ('u26', 'u13', '1'),\n",
              " ('u18', 'u19', '13'),\n",
              " ('u18', 'u19', '12'),\n",
              " ('u22', 'target', 0),\n",
              " ('u26', 's1', '1'),\n",
              " ('u22', 'u3', '13'),\n",
              " ('s1', 'u3', '0'),\n",
              " ('u22', 'u3', '1'),\n",
              " ('s3', 'u13', '13'),\n",
              " ('u18', 's3', '13'),\n",
              " ('u26', 'u19', '0'),\n",
              " ('s8', 'target', 0),\n",
              " ('u22', 'u18', '1'),\n",
              " ('s3', 's1', '0'),\n",
              " ('u18', 'u19', '0'),\n",
              " ('u26', 'u19', '13'),\n",
              " ('u18', 'u13', '13'),\n",
              " ('u3', 'u13', '1'),\n",
              " ('u3', 'u22', '0'),\n",
              " ('s1', 's8', '12'),\n",
              " ('u22', 'u19', '13'),\n",
              " ('u22', 'u19', '1'),\n",
              " ('u13', 'u22', '1'),\n",
              " ('u26', 'u19', '1'),\n",
              " ('u19', 'u13', '0'),\n",
              " ('s3', 's8', '1'),\n",
              " ('u18', 's1', '13'),\n",
              " ('s3', 'target', 0),\n",
              " ('u18', 's1', '0'),\n",
              " ('target', 'u19', 0),\n",
              " ('u18', 'u13', '12'),\n",
              " ('u26', 's8', '13'),\n",
              " ('u19', 's1', '12'),\n",
              " ('u19', 'u3', '1'),\n",
              " ('u22', 'u3', '0'),\n",
              " ('u22', 's1', '1'),\n",
              " ('s8', 'u22', '12'),\n",
              " ('s3', 's1', '1'),\n",
              " ('u18', 's8', '13'),\n",
              " ('u22', 'u3', '12'),\n",
              " ('u18', 'u26', '13'),\n",
              " ('u18', 's3', '1'),\n",
              " ('u26', 's3', '13'),\n",
              " ('s1', 'u3', '1'),\n",
              " ('u19', 'u3', '12'),\n",
              " ('s1', 's8', '0'),\n",
              " ('u18', 'u26', '12'),\n",
              " ('u19', 's8', '0'),\n",
              " ('target', 'u18', 0),\n",
              " ('u26', 's1', '0'),\n",
              " ('u22', 'u3', '0'),\n",
              " ('s3', 'u19', '12'),\n",
              " ('s8', 'u3', '0'),\n",
              " ('u26', 'u19', '12'),\n",
              " ('u18', 'u13', '1'),\n",
              " ('u22', 's3', '1'),\n",
              " ('u22', 's3', '13'),\n",
              " ('u19', 's8', '1'),\n",
              " ('u18', 'u13', '0'),\n",
              " ('u3', 's3', '13'),\n",
              " ('u26', 's3', '12'),\n",
              " ('s3', 'u19', '1'),\n",
              " ('u18', 's8', '0'),\n",
              " ('u22', 'u18', '13'),\n",
              " ('s8', 'u3', '1'),\n",
              " ('u22', 's3', '12'),\n",
              " ('u18', 'u3', '1'),\n",
              " ('u19', 'u13', '12'),\n",
              " ('u26', 'u22', '13'),\n",
              " ('u13', 'u22', '0'),\n",
              " ('u22', 's3', '0'),\n",
              " ('u19', 's1', '0'),\n",
              " ('s3', 's1', '13'),\n",
              " ('u18', 'u3', '12'),\n",
              " ('u18', 'u3', '0'),\n",
              " ('u22', 'u18', '12'),\n",
              " ('s1', 'u3', '13'),\n",
              " ('s1', 'u13', '13'),\n",
              " ('s1', 'u13', '1'),\n",
              " ('s3', 's8', '0'),\n",
              " ('s8', 'u13', '0'),\n",
              " ('u3', 's3', '0'),\n",
              " ('u26', 'u3', '13'),\n",
              " ('target', 'u26', 0),\n",
              " ('s8', 'u22', '13'),\n",
              " ('u26', 'u22', '12'),\n",
              " ('s3', 's8', '12'),\n",
              " ('u22', 's1', '0'),\n",
              " ('u18', 'u26', '1'),\n",
              " ('target', 'u13', 0),\n",
              " ('s8', 'u3', '12'),\n",
              " ('u19', 'u3', '13'),\n",
              " ('u26', 'u13', '0'),\n",
              " ('u19', 's1', '13'),\n",
              " ('u18', 's3', '12'),\n",
              " ('u22', 'u18', '0'),\n",
              " ('u26', 's8', '1'),\n",
              " ('u19', 's8', '13'),\n",
              " ('u18', 'u19', '1'),\n",
              " ('s1', 'u13', '12'),\n",
              " ('u3', 'u13', '13'),\n",
              " ('u26', 's8', '12'),\n",
              " ('u19', 'u13', '13'),\n",
              " ('s1', 'u13', '0'),\n",
              " ('target', 's1', 0),\n",
              " ('u13', 'u22', '12'),\n",
              " ('u26', 's3', '0'),\n",
              " ('u3', 'u22', '12'),\n",
              " ('target', 'u3', 0),\n",
              " ('s3', 'u19', '13'),\n",
              " ('s3', 'u19', '0'),\n",
              " ('u19', 'u13', '1'),\n",
              " ('u22', 's1', '12'),\n",
              " ('s3', 's8', '13'),\n",
              " ('u19', 's1', '1'),\n",
              " ('s1', 's8', '13'),\n",
              " ('u3', 'u13', '12'),\n",
              " ('u26', 's1', '13'),\n",
              " ('u18', 's1', '1'),\n",
              " ('s3', 's1', '12'),\n",
              " ('s3', 'u13', '12'),\n",
              " ('u18', 's8', '12'),\n",
              " ('s3', 'u13', '1'),\n",
              " ('u3', 's3', '12'),\n",
              " ('u22', 'u19', '0'),\n",
              " ('u19', 'u3', '0'),\n",
              " ('s8', 'u13', '12'),\n",
              " ('u18', 'u3', '13'),\n",
              " ('u26', 's8', '0'),\n",
              " ('u26', 's3', '1'),\n",
              " ('s8', 'u13', '13'),\n",
              " ('u26', 's1', '12'),\n",
              " ('u26', 'u3', '0'),\n",
              " ('u26', 'u3', '1'),\n",
              " ('u26', 'u13', '13'),\n",
              " ('s8', 'u22', '1'),\n",
              " ('u13', 'u22', '13'),\n",
              " ('u18', 's1', '12'),\n",
              " ('u19', 's8', '12'),\n",
              " ('s8', 'u13', '1'),\n",
              " ('u18', 's8', '1'),\n",
              " ('s8', 'u3', '13'),\n",
              " ('u22', 'u19', '12'),\n",
              " ('u22', 's1', '13')]"
            ]
          },
          "metadata": {
            "tags": []
          },
          "execution_count": 70
        }
      ]
    },
    {
      "cell_type": "code",
      "metadata": {
        "colab": {
          "base_uri": "https://localhost:8080/"
        },
        "id": "-MIxcGE3yWmn",
        "outputId": "8f929100-8a76-4af6-dd15-9b68a4d80aa4"
      },
      "source": [
        "sh.values_clear(\"'img_comps'!A5:J10000\")"
      ],
      "execution_count": 71,
      "outputs": [
        {
          "output_type": "execute_result",
          "data": {
            "text/plain": [
              "{'clearedRange': 'img_comps!A5:J1000',\n",
              " 'spreadsheetId': '1pIUn3doGKx15l43OFiuIiMGRmY9RzCaIfJRhEnXz8nU'}"
            ]
          },
          "metadata": {
            "tags": []
          },
          "execution_count": 71
        }
      ]
    },
    {
      "cell_type": "code",
      "metadata": {
        "id": "WOSgrhe9wflg"
      },
      "source": [
        "row = 5\n",
        "quest_num = 1\n",
        "worksheet = img_comps\n",
        "\n",
        "for comb in model_frame_combs:\n",
        "  a, b, frame = comb\n",
        "\n",
        "  worksheet.update_cell(row, 1, quest_num)\n",
        "  worksheet.update_cell(row, 2, a)\n",
        "  worksheet.update_cell(row, 3, b)\n",
        "  worksheet.update_cell(row, 4, frame)\n",
        "\n",
        "  row += 1\n",
        "  quest_num += 1\n",
        "  time.sleep(2)"
      ],
      "execution_count": 72,
      "outputs": []
    },
    {
      "cell_type": "code",
      "metadata": {
        "id": "sl9W-1PC69fb"
      },
      "source": [
        ""
      ],
      "execution_count": null,
      "outputs": []
    }
  ]
}