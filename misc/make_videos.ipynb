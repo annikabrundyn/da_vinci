{
  "nbformat": 4,
  "nbformat_minor": 0,
  "metadata": {
    "colab": {
      "name": "make_videos.ipynb",
      "provenance": [],
      "collapsed_sections": [],
      "authorship_tag": "ABX9TyP8px2ujRS659rXJ9giW1/V",
      "include_colab_link": true
    },
    "kernelspec": {
      "name": "python3",
      "display_name": "Python 3"
    },
    "language_info": {
      "name": "python"
    }
  },
  "cells": [
    {
      "cell_type": "markdown",
      "metadata": {
        "id": "view-in-github",
        "colab_type": "text"
      },
      "source": [
        "<a href=\"https://colab.research.google.com/github/annikabrundyn/da_vinci/blob/videos/misc/make_videos.ipynb\" target=\"_parent\"><img src=\"https://colab.research.google.com/assets/colab-badge.svg\" alt=\"Open In Colab\"/></a>"
      ]
    },
    {
      "cell_type": "code",
      "metadata": {
        "colab": {
          "base_uri": "https://localhost:8080/"
        },
        "id": "dTsVKArcC1PS",
        "outputId": "1314399e-3eef-450f-a468-fefe098a8bec"
      },
      "source": [
        "from google.colab import drive\n",
        "drive.mount('/content/drive')"
      ],
      "execution_count": 1,
      "outputs": [
        {
          "output_type": "stream",
          "text": [
            "Mounted at /content/drive\n"
          ],
          "name": "stdout"
        }
      ]
    },
    {
      "cell_type": "code",
      "metadata": {
        "colab": {
          "base_uri": "https://localhost:8080/"
        },
        "id": "PPpLHP2IGiry",
        "outputId": "a77ac711-447f-4097-cfe1-3678cb239713"
      },
      "source": [
        "%cd /content/drive/My\\ Drive/Capstone/survey"
      ],
      "execution_count": 2,
      "outputs": [
        {
          "output_type": "stream",
          "text": [
            "/content/drive/My Drive/Capstone/survey\n"
          ],
          "name": "stdout"
        }
      ]
    },
    {
      "cell_type": "code",
      "metadata": {
        "id": "TIXbt-x6a2Jh"
      },
      "source": [
        "import os\n",
        "base_dir = os.getcwd()"
      ],
      "execution_count": 3,
      "outputs": []
    },
    {
      "cell_type": "code",
      "metadata": {
        "id": "s6uDpjWfbK_y"
      },
      "source": [
        "input_dir = os.path.join(base_dir, 'original_videos')\n",
        "output_dir = os.path.join(base_dir, 'survey_videos')"
      ],
      "execution_count": 4,
      "outputs": []
    },
    {
      "cell_type": "code",
      "metadata": {
        "id": "tN4Ym7TrRUgT"
      },
      "source": [
        "!apt update &> /dev/null\n",
        "!apt install imagemagick &> /dev/null\n",
        "!apt install ffmpeg &> /dev/null\n",
        "!pip3 install moviepy[optional] &> /dev/null\n",
        "!sed -i '/<policy domain=\"path\" rights=\"none\" pattern=\"@\\*\"/d' /etc/ImageMagick-6/policy.xml"
      ],
      "execution_count": 5,
      "outputs": []
    },
    {
      "cell_type": "code",
      "metadata": {
        "id": "wbPm6-CHFyHf"
      },
      "source": [
        "from moviepy.editor import VideoFileClip, ColorClip, TextClip, CompositeVideoClip, concatenate_videoclips\n",
        "import random"
      ],
      "execution_count": 14,
      "outputs": []
    },
    {
      "cell_type": "code",
      "metadata": {
        "id": "sPjQ3-6nzR0J"
      },
      "source": [
        "models = ['u22', 'u3', 's1']\n",
        "\n",
        "clip_length = 8\n",
        "num_videos = 20\n",
        "total_seconds = 324       #i think?\n",
        "\n",
        "video_t_starts = [random.randint(1, (total_seconds-clip_length)) for _ in range(num_videos)]"
      ],
      "execution_count": 17,
      "outputs": []
    },
    {
      "cell_type": "code",
      "metadata": {
        "id": "_K3Lol-60ZgD"
      },
      "source": [
        "inputs = [(1, 'u22', 'u3', 211, 8),\n",
        "          (2, 'u3', 's1', 127, 8),\n",
        "          (3, 's8', 'u3', 92, 8)]"
      ],
      "execution_count": 21,
      "outputs": []
    },
    {
      "cell_type": "code",
      "metadata": {
        "colab": {
          "base_uri": "https://localhost:8080/"
        },
        "id": "IuZZ1VE901X3",
        "outputId": "914ea5a8-94ab-4fb7-f328-3685ddebf912"
      },
      "source": [
        "top = bottom = (720 - 192)//2\n",
        "left = right = (1280 - 768)//2\n",
        "\n",
        "for (i, a, b, t_start, clip_len) in inputs:\n",
        "  \n",
        "  t_end = t_start + clip_length\n",
        "\n",
        "  clip_a = VideoFileClip(os.path.join(input_dir, f\"{a}_last.mp4\")).subclip(t_start, t_end)\n",
        "  clip_b = VideoFileClip(os.path.join(input_dir, f\"{b}_last.mp4\")).subclip(t_start, t_end)\n",
        "\n",
        "  clip_a = clip_a.margin(top=top, bottom=bottom, left=left, right=right)\n",
        "  clip_b = clip_b.margin(top=top, bottom=bottom, left=left, right=right)\n",
        "\n",
        "  black = ColorClip(size=(1280, 720), color=(0,0,0), duration=1)\n",
        "\n",
        "  txt_clip_a = TextClip(\"Video A\", fontsize = 35, font = 'Liberation-Sans-Narrow', color = 'white') \n",
        "  txt_clip_a = txt_clip_a.set_position((\"center\", \"bottom\")).set_duration(5) \n",
        "\n",
        "  txt_clip_b = TextClip(\"Video B\", fontsize = 35, font = 'Liberation-Sans-Narrow', color = 'white') \n",
        "  txt_clip_b = txt_clip_b.set_position((\"center\", \"bottom\")).set_duration(5) \n",
        "\n",
        "  clip_a = CompositeVideoClip([clip_a, txt_clip_a])\n",
        "  clip_b = CompositeVideoClip([clip_b, txt_clip_b])\n",
        "\n",
        "  final_clip = concatenate_videoclips([black, clip_a, black, clip_b])\n",
        "  \n",
        "  txt_clip_q = TextClip(f\"Q{i}\", fontsize = 40, font = 'Liberation-Sans', color = 'white') \n",
        "  txt_clip_q = txt_clip_q.set_position((\"left\", \"top\")).set_duration(18) \n",
        "\n",
        "  final_clip = CompositeVideoClip([final_clip, txt_clip_q])\n",
        "  \n",
        "  final_clip.write_videofile(os.path.join(output_dir, f\"Q{i}.mp4\"))"
      ],
      "execution_count": 24,
      "outputs": [
        {
          "output_type": "stream",
          "text": [
            "[MoviePy] >>>> Building video /content/drive/My Drive/Capstone/survey/survey_videos/Q1.mp4\n",
            "[MoviePy] Writing video /content/drive/My Drive/Capstone/survey/survey_videos/Q1.mp4\n"
          ],
          "name": "stdout"
        },
        {
          "output_type": "stream",
          "text": [
            "100%|█████████▉| 360/361 [00:32<00:00, 10.94it/s]\n"
          ],
          "name": "stderr"
        },
        {
          "output_type": "stream",
          "text": [
            "[MoviePy] Done.\n",
            "[MoviePy] >>>> Video ready: /content/drive/My Drive/Capstone/survey/survey_videos/Q1.mp4 \n",
            "\n",
            "[MoviePy] >>>> Building video /content/drive/My Drive/Capstone/survey/survey_videos/Q2.mp4\n",
            "[MoviePy] Writing video /content/drive/My Drive/Capstone/survey/survey_videos/Q2.mp4\n"
          ],
          "name": "stdout"
        },
        {
          "output_type": "stream",
          "text": [
            "100%|█████████▉| 360/361 [00:32<00:00, 11.00it/s]\n"
          ],
          "name": "stderr"
        },
        {
          "output_type": "stream",
          "text": [
            "[MoviePy] Done.\n",
            "[MoviePy] >>>> Video ready: /content/drive/My Drive/Capstone/survey/survey_videos/Q2.mp4 \n",
            "\n",
            "[MoviePy] >>>> Building video /content/drive/My Drive/Capstone/survey/survey_videos/Q3.mp4\n",
            "[MoviePy] Writing video /content/drive/My Drive/Capstone/survey/survey_videos/Q3.mp4\n"
          ],
          "name": "stdout"
        },
        {
          "output_type": "stream",
          "text": [
            "100%|█████████▉| 360/361 [00:31<00:00, 11.42it/s]\n"
          ],
          "name": "stderr"
        },
        {
          "output_type": "stream",
          "text": [
            "[MoviePy] Done.\n",
            "[MoviePy] >>>> Video ready: /content/drive/My Drive/Capstone/survey/survey_videos/Q3.mp4 \n",
            "\n"
          ],
          "name": "stdout"
        }
      ]
    },
    {
      "cell_type": "code",
      "metadata": {
        "id": "RPpwWJ2Vb0tC"
      },
      "source": [
        "a = 'u22'\n",
        "b = 'u3'\n",
        "\n",
        "# number of seconds to start at\n",
        "\n",
        "t_start = 11\n",
        "t_end = t_start + clip_length"
      ],
      "execution_count": 7,
      "outputs": []
    },
    {
      "cell_type": "code",
      "metadata": {
        "id": "HGNqr0-3FyNR"
      },
      "source": [
        "clip_a = VideoFileClip(os.path.join(input_dir, f\"{a}_last.mp4\")).subclip(t_start, t_end)\n",
        "clip_b = VideoFileClip(os.path.join(input_dir, f\"{a}_last.mp4\")).subclip(t_start, t_end)"
      ],
      "execution_count": 8,
      "outputs": []
    },
    {
      "cell_type": "code",
      "metadata": {
        "id": "hRn0RX1tLb_E"
      },
      "source": [
        "top = bottom = (720 - 192)//2\n",
        "left = right = (1280 - 768)//2\n",
        "clip_a = clip_a.margin(top=top, bottom=bottom, left=left, right=right)\n",
        "clip_b = clip_b.margin(top=top, bottom=bottom, left=left, right=right)"
      ],
      "execution_count": 9,
      "outputs": []
    },
    {
      "cell_type": "code",
      "metadata": {
        "colab": {
          "base_uri": "https://localhost:8080/"
        },
        "id": "KRd3RzuWLiHX",
        "outputId": "1e68db41-76be-49a2-e85d-d09dce69e21e"
      },
      "source": [
        "clip_a.size"
      ],
      "execution_count": 10,
      "outputs": [
        {
          "output_type": "execute_result",
          "data": {
            "text/plain": [
              "(1280, 720)"
            ]
          },
          "metadata": {
            "tags": []
          },
          "execution_count": 10
        }
      ]
    },
    {
      "cell_type": "code",
      "metadata": {
        "id": "BsmF3j7rMdVB"
      },
      "source": [
        "black = ColorClip(size=(1280, 720), color=(0,0,0), duration=1)\n",
        "\n",
        "txt_clip_a = TextClip(\"Video A\", fontsize = 35, font = 'Liberation-Sans-Narrow', color = 'white') \n",
        "txt_clip_a = txt_clip_a.set_position((\"center\", \"bottom\")).set_duration(5) \n",
        "\n",
        "txt_clip_b = TextClip(\"Video B\", fontsize = 35, font = 'Liberation-Sans-Narrow', color = 'white') \n",
        "txt_clip_b = txt_clip_b.set_position((\"center\", \"bottom\")).set_duration(5) \n",
        "\n",
        "clip_a = CompositeVideoClip([clip_a, txt_clip_a])\n",
        "clip_b = CompositeVideoClip([clip_b, txt_clip_b])"
      ],
      "execution_count": 11,
      "outputs": []
    },
    {
      "cell_type": "code",
      "metadata": {
        "colab": {
          "base_uri": "https://localhost:8080/"
        },
        "id": "n6FU6jg8HxYH",
        "outputId": "2281ad95-36cc-418a-e721-6663a2d9d71c"
      },
      "source": [
        "final_clip = concatenate_videoclips([black, clip_a, black, clip_b])\n",
        "final_clip.write_videofile(\"test.mp4\")"
      ],
      "execution_count": 12,
      "outputs": [
        {
          "output_type": "stream",
          "text": [
            "[MoviePy] >>>> Building video test.mp4\n",
            "[MoviePy] Writing video test.mp4\n"
          ],
          "name": "stdout"
        },
        {
          "output_type": "stream",
          "text": [
            "100%|█████████▉| 360/361 [00:14<00:00, 25.41it/s]\n"
          ],
          "name": "stderr"
        },
        {
          "output_type": "stream",
          "text": [
            "[MoviePy] Done.\n",
            "[MoviePy] >>>> Video ready: test.mp4 \n",
            "\n"
          ],
          "name": "stdout"
        }
      ]
    },
    {
      "cell_type": "code",
      "metadata": {
        "id": "WAhVWEVdFyQa"
      },
      "source": [
        ""
      ],
      "execution_count": null,
      "outputs": []
    },
    {
      "cell_type": "code",
      "metadata": {
        "id": "SnwCTDGfC1a1"
      },
      "source": [
        "!(python da_vinci/scripts/gen_survey_imgs.py; \\ \n",
        "      --font_path /usr/share/fonts/truetype/liberation/LiberationSerif-Regular.ttf; \\ \n",
        "      --exps /content/drive/MyDrive/Capstone/survey/img_comps.csv; \\\n",
        "      --exp_dir /content/drive/MyDrive/Capstone/march21_artifacts; \\\n",
        "      --out_dir /content/drive/MyDrive/Capstone/survey/survey_imgs )"
      ],
      "execution_count": null,
      "outputs": []
    }
  ]
}